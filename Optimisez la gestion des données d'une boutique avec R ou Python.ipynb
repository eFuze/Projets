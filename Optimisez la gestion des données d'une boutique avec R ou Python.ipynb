{
 "cells": [
  {
   "attachments": {},
   "cell_type": "markdown",
   "id": "0ca9d955",
   "metadata": {},
   "source": [
    "Optimisez la gestion des données d'une boutique avec R ou Python"
   ]
  },
  {
   "cell_type": "code",
   "execution_count": 1,
   "id": "43aaf651",
   "metadata": {},
   "outputs": [],
   "source": [
    "import pandas as pd\n",
    "import numpy as np\n",
    "import matplotlib.pyplot as plt\n",
    "import seaborn as sns"
   ]
  },
  {
   "cell_type": "code",
   "execution_count": 2,
   "id": "704bbdd8",
   "metadata": {},
   "outputs": [
    {
     "name": "stderr",
     "output_type": "stream",
     "text": [
      "C:\\Users\\alexi\\anaconda3\\lib\\site-packages\\openpyxl\\worksheet\\_reader.py:312: UserWarning: Unknown extension is not supported and will be removed\n",
      "  warn(msg)\n"
     ]
    }
   ],
   "source": [
    "erp = pd.read_excel(\"C:/Users/alexi/Downloads/erp.xlsx\")\n",
    "web = pd.read_excel(\"C:/Users/alexi/Downloads/web.xlsx\")\n",
    "liaison = pd.read_excel(\"C:/Users/alexi/Downloads/liaison.xlsx\")"
   ]
  },
  {
   "cell_type": "code",
   "execution_count": 3,
   "id": "cc8017d3",
   "metadata": {},
   "outputs": [
    {
     "name": "stdout",
     "output_type": "stream",
     "text": [
      "<class 'pandas.core.frame.DataFrame'>\n",
      "RangeIndex: 825 entries, 0 to 824\n",
      "Data columns (total 5 columns):\n",
      " #   Column          Non-Null Count  Dtype  \n",
      "---  ------          --------------  -----  \n",
      " 0   product_id      825 non-null    int64  \n",
      " 1   onsale_web      825 non-null    int64  \n",
      " 2   price           825 non-null    float64\n",
      " 3   stock_quantity  825 non-null    int64  \n",
      " 4   stock_status    825 non-null    object \n",
      "dtypes: float64(1), int64(3), object(1)\n",
      "memory usage: 32.4+ KB\n"
     ]
    }
   ],
   "source": [
    "erp.info()"
   ]
  },
  {
   "cell_type": "code",
   "execution_count": 4,
   "id": "9830bea3",
   "metadata": {},
   "outputs": [
    {
     "data": {
      "text/html": [
       "<div>\n",
       "<style scoped>\n",
       "    .dataframe tbody tr th:only-of-type {\n",
       "        vertical-align: middle;\n",
       "    }\n",
       "\n",
       "    .dataframe tbody tr th {\n",
       "        vertical-align: top;\n",
       "    }\n",
       "\n",
       "    .dataframe thead th {\n",
       "        text-align: right;\n",
       "    }\n",
       "</style>\n",
       "<table border=\"1\" class=\"dataframe\">\n",
       "  <thead>\n",
       "    <tr style=\"text-align: right;\">\n",
       "      <th></th>\n",
       "      <th>product_id</th>\n",
       "      <th>onsale_web</th>\n",
       "      <th>price</th>\n",
       "      <th>stock_quantity</th>\n",
       "      <th>stock_status</th>\n",
       "    </tr>\n",
       "  </thead>\n",
       "  <tbody>\n",
       "    <tr>\n",
       "      <th>0</th>\n",
       "      <td>3847</td>\n",
       "      <td>1</td>\n",
       "      <td>24.2</td>\n",
       "      <td>0</td>\n",
       "      <td>outofstock</td>\n",
       "    </tr>\n",
       "    <tr>\n",
       "      <th>1</th>\n",
       "      <td>3849</td>\n",
       "      <td>1</td>\n",
       "      <td>34.3</td>\n",
       "      <td>0</td>\n",
       "      <td>outofstock</td>\n",
       "    </tr>\n",
       "    <tr>\n",
       "      <th>2</th>\n",
       "      <td>3850</td>\n",
       "      <td>1</td>\n",
       "      <td>20.8</td>\n",
       "      <td>0</td>\n",
       "      <td>outofstock</td>\n",
       "    </tr>\n",
       "    <tr>\n",
       "      <th>3</th>\n",
       "      <td>4032</td>\n",
       "      <td>1</td>\n",
       "      <td>14.1</td>\n",
       "      <td>0</td>\n",
       "      <td>outofstock</td>\n",
       "    </tr>\n",
       "    <tr>\n",
       "      <th>4</th>\n",
       "      <td>4039</td>\n",
       "      <td>1</td>\n",
       "      <td>46.0</td>\n",
       "      <td>0</td>\n",
       "      <td>outofstock</td>\n",
       "    </tr>\n",
       "  </tbody>\n",
       "</table>\n",
       "</div>"
      ],
      "text/plain": [
       "   product_id  onsale_web  price  stock_quantity stock_status\n",
       "0        3847           1   24.2               0   outofstock\n",
       "1        3849           1   34.3               0   outofstock\n",
       "2        3850           1   20.8               0   outofstock\n",
       "3        4032           1   14.1               0   outofstock\n",
       "4        4039           1   46.0               0   outofstock"
      ]
     },
     "execution_count": 4,
     "metadata": {},
     "output_type": "execute_result"
    }
   ],
   "source": [
    "erp.head()"
   ]
  },
  {
   "cell_type": "markdown",
   "id": "cd70f902",
   "metadata": {},
   "source": [
    "## Fonction pour savoir si une colonne pour être utilisé comme clé primaire"
   ]
  },
  {
   "cell_type": "code",
   "execution_count": 5,
   "id": "84519757",
   "metadata": {},
   "outputs": [],
   "source": [
    "def cle(df, col):\n",
    "    \n",
    "    if df.size == df.drop_duplicates(col).size :\n",
    "        print(\"Clé primaire : ok\".format(col))\n",
    "    else :\n",
    "        print(\"Clé primaire : ko\".format(col))"
   ]
  },
  {
   "cell_type": "markdown",
   "id": "dd723ba7",
   "metadata": {},
   "source": [
    "## Make it non null"
   ]
  },
  {
   "cell_type": "code",
   "execution_count": 6,
   "id": "bed6318d",
   "metadata": {},
   "outputs": [],
   "source": [
    "web_notnull = web[web[\"sku\"].notnull()]"
   ]
  },
  {
   "cell_type": "code",
   "execution_count": 7,
   "id": "1189a0c9",
   "metadata": {},
   "outputs": [],
   "source": [
    "web_null = web[web[\"sku\"].isnull()]"
   ]
  },
  {
   "cell_type": "code",
   "execution_count": 8,
   "id": "3a6fddc4",
   "metadata": {},
   "outputs": [],
   "source": [
    "null_data = web_null[web_null[\"post_type\"].notnull()]"
   ]
  },
  {
   "cell_type": "markdown",
   "id": "a8a4363f",
   "metadata": {},
   "source": [
    "## Deux lignes à sauvegarder"
   ]
  },
  {
   "cell_type": "code",
   "execution_count": 9,
   "id": "cc6c6dc7",
   "metadata": {},
   "outputs": [
    {
     "data": {
      "text/html": [
       "<div>\n",
       "<style scoped>\n",
       "    .dataframe tbody tr th:only-of-type {\n",
       "        vertical-align: middle;\n",
       "    }\n",
       "\n",
       "    .dataframe tbody tr th {\n",
       "        vertical-align: top;\n",
       "    }\n",
       "\n",
       "    .dataframe thead th {\n",
       "        text-align: right;\n",
       "    }\n",
       "</style>\n",
       "<table border=\"1\" class=\"dataframe\">\n",
       "  <thead>\n",
       "    <tr style=\"text-align: right;\">\n",
       "      <th></th>\n",
       "      <th>sku</th>\n",
       "      <th>virtual</th>\n",
       "      <th>downloadable</th>\n",
       "      <th>rating_count</th>\n",
       "      <th>average_rating</th>\n",
       "      <th>total_sales</th>\n",
       "      <th>tax_status</th>\n",
       "      <th>tax_class</th>\n",
       "      <th>post_author</th>\n",
       "      <th>post_date</th>\n",
       "      <th>...</th>\n",
       "      <th>post_name</th>\n",
       "      <th>post_modified</th>\n",
       "      <th>post_modified_gmt</th>\n",
       "      <th>post_content_filtered</th>\n",
       "      <th>post_parent</th>\n",
       "      <th>guid</th>\n",
       "      <th>menu_order</th>\n",
       "      <th>post_type</th>\n",
       "      <th>post_mime_type</th>\n",
       "      <th>comment_count</th>\n",
       "    </tr>\n",
       "  </thead>\n",
       "  <tbody>\n",
       "    <tr>\n",
       "      <th>470</th>\n",
       "      <td>NaN</td>\n",
       "      <td>0</td>\n",
       "      <td>0</td>\n",
       "      <td>0</td>\n",
       "      <td>0.0</td>\n",
       "      <td>0.0</td>\n",
       "      <td>taxable</td>\n",
       "      <td>NaN</td>\n",
       "      <td>2.0</td>\n",
       "      <td>2018-07-31 12:07:23</td>\n",
       "      <td>...</td>\n",
       "      <td>pierre-jean-villa-cote-rotie-fongeant-2017</td>\n",
       "      <td>2019-11-02 13:24:15</td>\n",
       "      <td>2019-11-02 12:24:15</td>\n",
       "      <td>NaN</td>\n",
       "      <td>0.0</td>\n",
       "      <td>https://www.bottle-neck.fr/?post_type=product&amp;...</td>\n",
       "      <td>0.0</td>\n",
       "      <td>product</td>\n",
       "      <td>NaN</td>\n",
       "      <td>0.0</td>\n",
       "    </tr>\n",
       "    <tr>\n",
       "      <th>471</th>\n",
       "      <td>NaN</td>\n",
       "      <td>0</td>\n",
       "      <td>0</td>\n",
       "      <td>0</td>\n",
       "      <td>0.0</td>\n",
       "      <td>0.0</td>\n",
       "      <td>taxable</td>\n",
       "      <td>NaN</td>\n",
       "      <td>2.0</td>\n",
       "      <td>2018-08-08 11:23:43</td>\n",
       "      <td>...</td>\n",
       "      <td>pierre-jean-villa-condrieu-suspendu-2018</td>\n",
       "      <td>2019-11-02 13:24:01</td>\n",
       "      <td>2019-11-02 12:24:01</td>\n",
       "      <td>NaN</td>\n",
       "      <td>0.0</td>\n",
       "      <td>https://www.bottle-neck.fr/?post_type=product&amp;...</td>\n",
       "      <td>0.0</td>\n",
       "      <td>product</td>\n",
       "      <td>NaN</td>\n",
       "      <td>0.0</td>\n",
       "    </tr>\n",
       "  </tbody>\n",
       "</table>\n",
       "<p>2 rows × 28 columns</p>\n",
       "</div>"
      ],
      "text/plain": [
       "     sku  virtual  downloadable  rating_count  average_rating  total_sales  \\\n",
       "470  NaN        0             0             0             0.0          0.0   \n",
       "471  NaN        0             0             0             0.0          0.0   \n",
       "\n",
       "    tax_status  tax_class  post_author           post_date  ...  \\\n",
       "470    taxable        NaN          2.0 2018-07-31 12:07:23  ...   \n",
       "471    taxable        NaN          2.0 2018-08-08 11:23:43  ...   \n",
       "\n",
       "                                      post_name       post_modified  \\\n",
       "470  pierre-jean-villa-cote-rotie-fongeant-2017 2019-11-02 13:24:15   \n",
       "471    pierre-jean-villa-condrieu-suspendu-2018 2019-11-02 13:24:01   \n",
       "\n",
       "      post_modified_gmt post_content_filtered post_parent  \\\n",
       "470 2019-11-02 12:24:15                   NaN         0.0   \n",
       "471 2019-11-02 12:24:01                   NaN         0.0   \n",
       "\n",
       "                                                  guid menu_order  post_type  \\\n",
       "470  https://www.bottle-neck.fr/?post_type=product&...        0.0    product   \n",
       "471  https://www.bottle-neck.fr/?post_type=product&...        0.0    product   \n",
       "\n",
       "    post_mime_type comment_count  \n",
       "470            NaN           0.0  \n",
       "471            NaN           0.0  \n",
       "\n",
       "[2 rows x 28 columns]"
      ]
     },
     "execution_count": 9,
     "metadata": {},
     "output_type": "execute_result"
    }
   ],
   "source": [
    "null_data"
   ]
  },
  {
   "cell_type": "markdown",
   "id": "b6bec373",
   "metadata": {},
   "source": [
    "## Préparer la jointure"
   ]
  },
  {
   "cell_type": "code",
   "execution_count": 10,
   "id": "77480a49",
   "metadata": {},
   "outputs": [],
   "source": [
    "liaison = liaison.rename(columns={\"id_web\":\"sku\"})"
   ]
  },
  {
   "cell_type": "code",
   "execution_count": 11,
   "id": "49c26ca2",
   "metadata": {},
   "outputs": [],
   "source": [
    "web_product = web_notnull[web_notnull[\"post_type\"] == \"product\"]"
   ]
  },
  {
   "cell_type": "code",
   "execution_count": 12,
   "id": "24433920",
   "metadata": {},
   "outputs": [
    {
     "name": "stdout",
     "output_type": "stream",
     "text": [
      "<class 'pandas.core.frame.DataFrame'>\n",
      "Int64Index: 714 entries, 0 to 798\n",
      "Data columns (total 28 columns):\n",
      " #   Column                 Non-Null Count  Dtype         \n",
      "---  ------                 --------------  -----         \n",
      " 0   sku                    714 non-null    object        \n",
      " 1   virtual                714 non-null    int64         \n",
      " 2   downloadable           714 non-null    int64         \n",
      " 3   rating_count           714 non-null    int64         \n",
      " 4   average_rating         714 non-null    float64       \n",
      " 5   total_sales            714 non-null    float64       \n",
      " 6   tax_status             714 non-null    object        \n",
      " 7   tax_class              0 non-null      float64       \n",
      " 8   post_author            714 non-null    float64       \n",
      " 9   post_date              714 non-null    datetime64[ns]\n",
      " 10  post_date_gmt          714 non-null    datetime64[ns]\n",
      " 11  post_content           0 non-null      float64       \n",
      " 12  post_title             714 non-null    object        \n",
      " 13  post_excerpt           714 non-null    object        \n",
      " 14  post_status            714 non-null    object        \n",
      " 15  comment_status         714 non-null    object        \n",
      " 16  ping_status            714 non-null    object        \n",
      " 17  post_password          0 non-null      float64       \n",
      " 18  post_name              714 non-null    object        \n",
      " 19  post_modified          714 non-null    datetime64[ns]\n",
      " 20  post_modified_gmt      714 non-null    datetime64[ns]\n",
      " 21  post_content_filtered  0 non-null      float64       \n",
      " 22  post_parent            714 non-null    float64       \n",
      " 23  guid                   714 non-null    object        \n",
      " 24  menu_order             714 non-null    float64       \n",
      " 25  post_type              714 non-null    object        \n",
      " 26  post_mime_type         0 non-null      object        \n",
      " 27  comment_count          714 non-null    float64       \n",
      "dtypes: datetime64[ns](4), float64(10), int64(3), object(11)\n",
      "memory usage: 161.8+ KB\n"
     ]
    }
   ],
   "source": [
    "web_product.info()"
   ]
  },
  {
   "cell_type": "code",
   "execution_count": 13,
   "id": "85b84c0e",
   "metadata": {},
   "outputs": [
    {
     "name": "stdout",
     "output_type": "stream",
     "text": [
      "<class 'pandas.core.frame.DataFrame'>\n",
      "Int64Index: 85 entries, 178 to 796\n",
      "Data columns (total 28 columns):\n",
      " #   Column                 Non-Null Count  Dtype         \n",
      "---  ------                 --------------  -----         \n",
      " 0   sku                    0 non-null      object        \n",
      " 1   virtual                85 non-null     int64         \n",
      " 2   downloadable           85 non-null     int64         \n",
      " 3   rating_count           85 non-null     int64         \n",
      " 4   average_rating         2 non-null      float64       \n",
      " 5   total_sales            2 non-null      float64       \n",
      " 6   tax_status             2 non-null      object        \n",
      " 7   tax_class              0 non-null      float64       \n",
      " 8   post_author            2 non-null      float64       \n",
      " 9   post_date              2 non-null      datetime64[ns]\n",
      " 10  post_date_gmt          2 non-null      datetime64[ns]\n",
      " 11  post_content           0 non-null      float64       \n",
      " 12  post_title             2 non-null      object        \n",
      " 13  post_excerpt           2 non-null      object        \n",
      " 14  post_status            2 non-null      object        \n",
      " 15  comment_status         2 non-null      object        \n",
      " 16  ping_status            2 non-null      object        \n",
      " 17  post_password          0 non-null      float64       \n",
      " 18  post_name              2 non-null      object        \n",
      " 19  post_modified          2 non-null      datetime64[ns]\n",
      " 20  post_modified_gmt      2 non-null      datetime64[ns]\n",
      " 21  post_content_filtered  0 non-null      float64       \n",
      " 22  post_parent            2 non-null      float64       \n",
      " 23  guid                   2 non-null      object        \n",
      " 24  menu_order             2 non-null      float64       \n",
      " 25  post_type              2 non-null      object        \n",
      " 26  post_mime_type         0 non-null      object        \n",
      " 27  comment_count          2 non-null      float64       \n",
      "dtypes: datetime64[ns](4), float64(10), int64(3), object(11)\n",
      "memory usage: 19.3+ KB\n"
     ]
    }
   ],
   "source": [
    "web[web[\"sku\"].isnull()].info()"
   ]
  },
  {
   "cell_type": "code",
   "execution_count": 14,
   "id": "f3f2cb28",
   "metadata": {},
   "outputs": [
    {
     "name": "stdout",
     "output_type": "stream",
     "text": [
      "Clé primaire : ok\n"
     ]
    }
   ],
   "source": [
    "cle(web_product,[\"sku\"])"
   ]
  },
  {
   "cell_type": "markdown",
   "id": "df546854",
   "metadata": {},
   "source": [
    "## Faire la jointure"
   ]
  },
  {
   "cell_type": "code",
   "execution_count": 15,
   "id": "56b7a9d1",
   "metadata": {},
   "outputs": [],
   "source": [
    "web_product_merge = pd.merge(liaison, erp, how=\"left\", on=\"product_id\")"
   ]
  },
  {
   "cell_type": "code",
   "execution_count": 16,
   "id": "357c49f7",
   "metadata": {},
   "outputs": [
    {
     "name": "stdout",
     "output_type": "stream",
     "text": [
      "<class 'pandas.core.frame.DataFrame'>\n",
      "Int64Index: 825 entries, 0 to 824\n",
      "Data columns (total 6 columns):\n",
      " #   Column          Non-Null Count  Dtype  \n",
      "---  ------          --------------  -----  \n",
      " 0   product_id      825 non-null    int64  \n",
      " 1   sku             734 non-null    object \n",
      " 2   onsale_web      825 non-null    int64  \n",
      " 3   price           825 non-null    float64\n",
      " 4   stock_quantity  825 non-null    int64  \n",
      " 5   stock_status    825 non-null    object \n",
      "dtypes: float64(1), int64(3), object(2)\n",
      "memory usage: 45.1+ KB\n"
     ]
    }
   ],
   "source": [
    "web_product_merge.info()"
   ]
  },
  {
   "cell_type": "code",
   "execution_count": 17,
   "id": "7cdb1704",
   "metadata": {},
   "outputs": [],
   "source": [
    "web_product_merge_2 = web_product_merge.merge(web_product, on='sku', how='outer', indicator=True)"
   ]
  },
  {
   "cell_type": "code",
   "execution_count": 18,
   "id": "894e05e2",
   "metadata": {},
   "outputs": [
    {
     "name": "stdout",
     "output_type": "stream",
     "text": [
      "<class 'pandas.core.frame.DataFrame'>\n",
      "Int64Index: 825 entries, 0 to 824\n",
      "Data columns (total 34 columns):\n",
      " #   Column                 Non-Null Count  Dtype         \n",
      "---  ------                 --------------  -----         \n",
      " 0   product_id             825 non-null    int64         \n",
      " 1   sku                    734 non-null    object        \n",
      " 2   onsale_web             825 non-null    int64         \n",
      " 3   price                  825 non-null    float64       \n",
      " 4   stock_quantity         825 non-null    int64         \n",
      " 5   stock_status           825 non-null    object        \n",
      " 6   virtual                714 non-null    float64       \n",
      " 7   downloadable           714 non-null    float64       \n",
      " 8   rating_count           714 non-null    float64       \n",
      " 9   average_rating         714 non-null    float64       \n",
      " 10  total_sales            714 non-null    float64       \n",
      " 11  tax_status             714 non-null    object        \n",
      " 12  tax_class              0 non-null      float64       \n",
      " 13  post_author            714 non-null    float64       \n",
      " 14  post_date              714 non-null    datetime64[ns]\n",
      " 15  post_date_gmt          714 non-null    datetime64[ns]\n",
      " 16  post_content           0 non-null      float64       \n",
      " 17  post_title             714 non-null    object        \n",
      " 18  post_excerpt           714 non-null    object        \n",
      " 19  post_status            714 non-null    object        \n",
      " 20  comment_status         714 non-null    object        \n",
      " 21  ping_status            714 non-null    object        \n",
      " 22  post_password          0 non-null      float64       \n",
      " 23  post_name              714 non-null    object        \n",
      " 24  post_modified          714 non-null    datetime64[ns]\n",
      " 25  post_modified_gmt      714 non-null    datetime64[ns]\n",
      " 26  post_content_filtered  0 non-null      float64       \n",
      " 27  post_parent            714 non-null    float64       \n",
      " 28  guid                   714 non-null    object        \n",
      " 29  menu_order             714 non-null    float64       \n",
      " 30  post_type              714 non-null    object        \n",
      " 31  post_mime_type         0 non-null      object        \n",
      " 32  comment_count          714 non-null    float64       \n",
      " 33  _merge                 825 non-null    category      \n",
      "dtypes: category(1), datetime64[ns](4), float64(14), int64(3), object(12)\n",
      "memory usage: 220.1+ KB\n"
     ]
    }
   ],
   "source": [
    "web_product_merge_2.info()"
   ]
  },
  {
   "cell_type": "markdown",
   "id": "60ff8fd4",
   "metadata": {},
   "source": [
    "## Obtenir le CA par produit, le CA total et la moyenne"
   ]
  },
  {
   "cell_type": "code",
   "execution_count": 19,
   "id": "b894f6a7",
   "metadata": {},
   "outputs": [],
   "source": [
    "web_product_merge_2[\"CA\"]= web_product_merge_2[\"price\"]*web_product_merge_2[\"total_sales\"]"
   ]
  },
  {
   "cell_type": "code",
   "execution_count": 25,
   "id": "545deed4",
   "metadata": {},
   "outputs": [
    {
     "data": {
      "text/html": [
       "<div>\n",
       "<style scoped>\n",
       "    .dataframe tbody tr th:only-of-type {\n",
       "        vertical-align: middle;\n",
       "    }\n",
       "\n",
       "    .dataframe tbody tr th {\n",
       "        vertical-align: top;\n",
       "    }\n",
       "\n",
       "    .dataframe thead th {\n",
       "        text-align: right;\n",
       "    }\n",
       "</style>\n",
       "<table border=\"1\" class=\"dataframe\">\n",
       "  <thead>\n",
       "    <tr style=\"text-align: right;\">\n",
       "      <th></th>\n",
       "      <th>product_id</th>\n",
       "      <th>sku</th>\n",
       "      <th>onsale_web</th>\n",
       "      <th>price</th>\n",
       "      <th>stock_quantity</th>\n",
       "      <th>stock_status</th>\n",
       "      <th>virtual</th>\n",
       "      <th>downloadable</th>\n",
       "      <th>rating_count</th>\n",
       "      <th>average_rating</th>\n",
       "      <th>...</th>\n",
       "      <th>post_modified_gmt</th>\n",
       "      <th>post_content_filtered</th>\n",
       "      <th>post_parent</th>\n",
       "      <th>guid</th>\n",
       "      <th>menu_order</th>\n",
       "      <th>post_type</th>\n",
       "      <th>post_mime_type</th>\n",
       "      <th>comment_count</th>\n",
       "      <th>_merge</th>\n",
       "      <th>CA</th>\n",
       "    </tr>\n",
       "  </thead>\n",
       "  <tbody>\n",
       "    <tr>\n",
       "      <th>0</th>\n",
       "      <td>3847</td>\n",
       "      <td>15298</td>\n",
       "      <td>1</td>\n",
       "      <td>24.2</td>\n",
       "      <td>0</td>\n",
       "      <td>outofstock</td>\n",
       "      <td>0.0</td>\n",
       "      <td>0.0</td>\n",
       "      <td>0.0</td>\n",
       "      <td>0.0</td>\n",
       "      <td>...</td>\n",
       "      <td>2019-12-30 08:30:29</td>\n",
       "      <td>NaN</td>\n",
       "      <td>0.0</td>\n",
       "      <td>https://www.bottle-neck.fr/?post_type=product&amp;...</td>\n",
       "      <td>0.0</td>\n",
       "      <td>product</td>\n",
       "      <td>NaN</td>\n",
       "      <td>0.0</td>\n",
       "      <td>both</td>\n",
       "      <td>145.2</td>\n",
       "    </tr>\n",
       "    <tr>\n",
       "      <th>1</th>\n",
       "      <td>3849</td>\n",
       "      <td>15296</td>\n",
       "      <td>1</td>\n",
       "      <td>34.3</td>\n",
       "      <td>0</td>\n",
       "      <td>outofstock</td>\n",
       "      <td>0.0</td>\n",
       "      <td>0.0</td>\n",
       "      <td>0.0</td>\n",
       "      <td>0.0</td>\n",
       "      <td>...</td>\n",
       "      <td>2019-12-21 08:00:17</td>\n",
       "      <td>NaN</td>\n",
       "      <td>0.0</td>\n",
       "      <td>https://www.bottle-neck.fr/?post_type=product&amp;...</td>\n",
       "      <td>0.0</td>\n",
       "      <td>product</td>\n",
       "      <td>NaN</td>\n",
       "      <td>0.0</td>\n",
       "      <td>both</td>\n",
       "      <td>0.0</td>\n",
       "    </tr>\n",
       "    <tr>\n",
       "      <th>2</th>\n",
       "      <td>3850</td>\n",
       "      <td>15300</td>\n",
       "      <td>1</td>\n",
       "      <td>20.8</td>\n",
       "      <td>0</td>\n",
       "      <td>outofstock</td>\n",
       "      <td>0.0</td>\n",
       "      <td>0.0</td>\n",
       "      <td>0.0</td>\n",
       "      <td>0.0</td>\n",
       "      <td>...</td>\n",
       "      <td>2020-06-26 16:15:03</td>\n",
       "      <td>NaN</td>\n",
       "      <td>0.0</td>\n",
       "      <td>https://www.bottle-neck.fr/?post_type=product&amp;...</td>\n",
       "      <td>0.0</td>\n",
       "      <td>product</td>\n",
       "      <td>NaN</td>\n",
       "      <td>0.0</td>\n",
       "      <td>both</td>\n",
       "      <td>0.0</td>\n",
       "    </tr>\n",
       "    <tr>\n",
       "      <th>3</th>\n",
       "      <td>4032</td>\n",
       "      <td>19814</td>\n",
       "      <td>1</td>\n",
       "      <td>14.1</td>\n",
       "      <td>0</td>\n",
       "      <td>outofstock</td>\n",
       "      <td>0.0</td>\n",
       "      <td>0.0</td>\n",
       "      <td>0.0</td>\n",
       "      <td>0.0</td>\n",
       "      <td>...</td>\n",
       "      <td>2020-01-04 15:36:01</td>\n",
       "      <td>NaN</td>\n",
       "      <td>0.0</td>\n",
       "      <td>https://www.bottle-neck.fr/?post_type=product&amp;...</td>\n",
       "      <td>0.0</td>\n",
       "      <td>product</td>\n",
       "      <td>NaN</td>\n",
       "      <td>0.0</td>\n",
       "      <td>both</td>\n",
       "      <td>42.3</td>\n",
       "    </tr>\n",
       "    <tr>\n",
       "      <th>4</th>\n",
       "      <td>4039</td>\n",
       "      <td>19815</td>\n",
       "      <td>1</td>\n",
       "      <td>46.0</td>\n",
       "      <td>0</td>\n",
       "      <td>outofstock</td>\n",
       "      <td>0.0</td>\n",
       "      <td>0.0</td>\n",
       "      <td>0.0</td>\n",
       "      <td>0.0</td>\n",
       "      <td>...</td>\n",
       "      <td>2020-01-04 15:36:10</td>\n",
       "      <td>NaN</td>\n",
       "      <td>0.0</td>\n",
       "      <td>https://www.bottle-neck.fr/?post_type=product&amp;...</td>\n",
       "      <td>0.0</td>\n",
       "      <td>product</td>\n",
       "      <td>NaN</td>\n",
       "      <td>0.0</td>\n",
       "      <td>both</td>\n",
       "      <td>0.0</td>\n",
       "    </tr>\n",
       "    <tr>\n",
       "      <th>5</th>\n",
       "      <td>4040</td>\n",
       "      <td>15303</td>\n",
       "      <td>1</td>\n",
       "      <td>34.3</td>\n",
       "      <td>0</td>\n",
       "      <td>outofstock</td>\n",
       "      <td>0.0</td>\n",
       "      <td>0.0</td>\n",
       "      <td>0.0</td>\n",
       "      <td>0.0</td>\n",
       "      <td>...</td>\n",
       "      <td>2019-11-02 12:25:07</td>\n",
       "      <td>NaN</td>\n",
       "      <td>0.0</td>\n",
       "      <td>https://www.bottle-neck.fr/?post_type=product&amp;...</td>\n",
       "      <td>0.0</td>\n",
       "      <td>product</td>\n",
       "      <td>NaN</td>\n",
       "      <td>0.0</td>\n",
       "      <td>both</td>\n",
       "      <td>0.0</td>\n",
       "    </tr>\n",
       "    <tr>\n",
       "      <th>6</th>\n",
       "      <td>4041</td>\n",
       "      <td>14975</td>\n",
       "      <td>1</td>\n",
       "      <td>32.7</td>\n",
       "      <td>15</td>\n",
       "      <td>instock</td>\n",
       "      <td>0.0</td>\n",
       "      <td>0.0</td>\n",
       "      <td>0.0</td>\n",
       "      <td>0.0</td>\n",
       "      <td>...</td>\n",
       "      <td>2020-08-14 16:15:02</td>\n",
       "      <td>NaN</td>\n",
       "      <td>0.0</td>\n",
       "      <td>https://www.bottle-neck.fr/?post_type=product&amp;...</td>\n",
       "      <td>0.0</td>\n",
       "      <td>product</td>\n",
       "      <td>NaN</td>\n",
       "      <td>0.0</td>\n",
       "      <td>both</td>\n",
       "      <td>0.0</td>\n",
       "    </tr>\n",
       "    <tr>\n",
       "      <th>7</th>\n",
       "      <td>4042</td>\n",
       "      <td>16042</td>\n",
       "      <td>1</td>\n",
       "      <td>31.2</td>\n",
       "      <td>34</td>\n",
       "      <td>instock</td>\n",
       "      <td>0.0</td>\n",
       "      <td>0.0</td>\n",
       "      <td>0.0</td>\n",
       "      <td>0.0</td>\n",
       "      <td>...</td>\n",
       "      <td>2020-08-14 08:15:02</td>\n",
       "      <td>NaN</td>\n",
       "      <td>0.0</td>\n",
       "      <td>https://www.bottle-neck.fr/?post_type=product&amp;...</td>\n",
       "      <td>0.0</td>\n",
       "      <td>product</td>\n",
       "      <td>NaN</td>\n",
       "      <td>0.0</td>\n",
       "      <td>both</td>\n",
       "      <td>218.4</td>\n",
       "    </tr>\n",
       "    <tr>\n",
       "      <th>8</th>\n",
       "      <td>4043</td>\n",
       "      <td>14980</td>\n",
       "      <td>1</td>\n",
       "      <td>60.0</td>\n",
       "      <td>12</td>\n",
       "      <td>instock</td>\n",
       "      <td>0.0</td>\n",
       "      <td>0.0</td>\n",
       "      <td>0.0</td>\n",
       "      <td>0.0</td>\n",
       "      <td>...</td>\n",
       "      <td>2020-08-24 12:00:03</td>\n",
       "      <td>NaN</td>\n",
       "      <td>0.0</td>\n",
       "      <td>https://www.bottle-neck.fr/?post_type=product&amp;...</td>\n",
       "      <td>0.0</td>\n",
       "      <td>product</td>\n",
       "      <td>NaN</td>\n",
       "      <td>0.0</td>\n",
       "      <td>both</td>\n",
       "      <td>180.0</td>\n",
       "    </tr>\n",
       "    <tr>\n",
       "      <th>9</th>\n",
       "      <td>4045</td>\n",
       "      <td>16041</td>\n",
       "      <td>1</td>\n",
       "      <td>42.6</td>\n",
       "      <td>66</td>\n",
       "      <td>instock</td>\n",
       "      <td>0.0</td>\n",
       "      <td>0.0</td>\n",
       "      <td>0.0</td>\n",
       "      <td>0.0</td>\n",
       "      <td>...</td>\n",
       "      <td>2020-08-03 07:55:03</td>\n",
       "      <td>NaN</td>\n",
       "      <td>0.0</td>\n",
       "      <td>https://www.bottle-neck.fr/?post_type=product&amp;...</td>\n",
       "      <td>0.0</td>\n",
       "      <td>product</td>\n",
       "      <td>NaN</td>\n",
       "      <td>0.0</td>\n",
       "      <td>both</td>\n",
       "      <td>596.4</td>\n",
       "    </tr>\n",
       "  </tbody>\n",
       "</table>\n",
       "<p>10 rows × 35 columns</p>\n",
       "</div>"
      ],
      "text/plain": [
       "   product_id    sku  onsale_web  price  stock_quantity stock_status  virtual  \\\n",
       "0        3847  15298           1   24.2               0   outofstock      0.0   \n",
       "1        3849  15296           1   34.3               0   outofstock      0.0   \n",
       "2        3850  15300           1   20.8               0   outofstock      0.0   \n",
       "3        4032  19814           1   14.1               0   outofstock      0.0   \n",
       "4        4039  19815           1   46.0               0   outofstock      0.0   \n",
       "5        4040  15303           1   34.3               0   outofstock      0.0   \n",
       "6        4041  14975           1   32.7              15      instock      0.0   \n",
       "7        4042  16042           1   31.2              34      instock      0.0   \n",
       "8        4043  14980           1   60.0              12      instock      0.0   \n",
       "9        4045  16041           1   42.6              66      instock      0.0   \n",
       "\n",
       "   downloadable  rating_count  average_rating  ...   post_modified_gmt  \\\n",
       "0           0.0           0.0             0.0  ... 2019-12-30 08:30:29   \n",
       "1           0.0           0.0             0.0  ... 2019-12-21 08:00:17   \n",
       "2           0.0           0.0             0.0  ... 2020-06-26 16:15:03   \n",
       "3           0.0           0.0             0.0  ... 2020-01-04 15:36:01   \n",
       "4           0.0           0.0             0.0  ... 2020-01-04 15:36:10   \n",
       "5           0.0           0.0             0.0  ... 2019-11-02 12:25:07   \n",
       "6           0.0           0.0             0.0  ... 2020-08-14 16:15:02   \n",
       "7           0.0           0.0             0.0  ... 2020-08-14 08:15:02   \n",
       "8           0.0           0.0             0.0  ... 2020-08-24 12:00:03   \n",
       "9           0.0           0.0             0.0  ... 2020-08-03 07:55:03   \n",
       "\n",
       "  post_content_filtered  post_parent  \\\n",
       "0                   NaN          0.0   \n",
       "1                   NaN          0.0   \n",
       "2                   NaN          0.0   \n",
       "3                   NaN          0.0   \n",
       "4                   NaN          0.0   \n",
       "5                   NaN          0.0   \n",
       "6                   NaN          0.0   \n",
       "7                   NaN          0.0   \n",
       "8                   NaN          0.0   \n",
       "9                   NaN          0.0   \n",
       "\n",
       "                                                guid menu_order post_type  \\\n",
       "0  https://www.bottle-neck.fr/?post_type=product&...        0.0   product   \n",
       "1  https://www.bottle-neck.fr/?post_type=product&...        0.0   product   \n",
       "2  https://www.bottle-neck.fr/?post_type=product&...        0.0   product   \n",
       "3  https://www.bottle-neck.fr/?post_type=product&...        0.0   product   \n",
       "4  https://www.bottle-neck.fr/?post_type=product&...        0.0   product   \n",
       "5  https://www.bottle-neck.fr/?post_type=product&...        0.0   product   \n",
       "6  https://www.bottle-neck.fr/?post_type=product&...        0.0   product   \n",
       "7  https://www.bottle-neck.fr/?post_type=product&...        0.0   product   \n",
       "8  https://www.bottle-neck.fr/?post_type=product&...        0.0   product   \n",
       "9  https://www.bottle-neck.fr/?post_type=product&...        0.0   product   \n",
       "\n",
       "   post_mime_type comment_count _merge     CA  \n",
       "0             NaN           0.0   both  145.2  \n",
       "1             NaN           0.0   both    0.0  \n",
       "2             NaN           0.0   both    0.0  \n",
       "3             NaN           0.0   both   42.3  \n",
       "4             NaN           0.0   both    0.0  \n",
       "5             NaN           0.0   both    0.0  \n",
       "6             NaN           0.0   both    0.0  \n",
       "7             NaN           0.0   both  218.4  \n",
       "8             NaN           0.0   both  180.0  \n",
       "9             NaN           0.0   both  596.4  \n",
       "\n",
       "[10 rows x 35 columns]"
      ]
     },
     "execution_count": 25,
     "metadata": {},
     "output_type": "execute_result"
    }
   ],
   "source": [
    "web_product_merge_2.head(10)"
   ]
  },
  {
   "cell_type": "code",
   "execution_count": 20,
   "id": "c2b8ccf3",
   "metadata": {},
   "outputs": [
    {
     "name": "stdout",
     "output_type": "stream",
     "text": [
      "70568.6\n"
     ]
    }
   ],
   "source": [
    "total = web_product_merge_2[\"CA\"].sum()\n",
    "print(total)"
   ]
  },
  {
   "cell_type": "code",
   "execution_count": 21,
   "id": "413993ea",
   "metadata": {},
   "outputs": [
    {
     "name": "stdout",
     "output_type": "stream",
     "text": [
      "32.415636363636374\n"
     ]
    }
   ],
   "source": [
    "print(web_product_merge_2[\"price\"].mean())"
   ]
  },
  {
   "cell_type": "markdown",
   "id": "59fcae8c",
   "metadata": {},
   "source": [
    "# Liste de prix considérés comme annormalement hauts"
   ]
  },
  {
   "cell_type": "code",
   "execution_count": 22,
   "id": "44748868",
   "metadata": {},
   "outputs": [
    {
     "name": "stdout",
     "output_type": "stream",
     "text": [
      "Q1: 14.6\n",
      "Q3:42.0\n",
      "interquartile:27.4\n",
      "en_dessous:-26.499999999999993\n",
      "au_dessus:83.1\n",
      "Nombre de valeurs au dessus: 37\n"
     ]
    },
    {
     "data": {
      "text/plain": [
       "19      86.1\n",
       "30     144.0\n",
       "47      84.7\n",
       "55      92.0\n",
       "154    100.0\n",
       "156     88.4\n",
       "291    225.0\n",
       "293    126.5\n",
       "297     85.6\n",
       "310    176.0\n",
       "311    108.5\n",
       "313    157.0\n",
       "314    104.0\n",
       "320    109.6\n",
       "477    102.3\n",
       "478    137.0\n",
       "525    217.5\n",
       "530    105.0\n",
       "531    105.0\n",
       "538    112.0\n",
       "539     86.8\n",
       "605     92.0\n",
       "610     83.7\n",
       "615    124.8\n",
       "657    175.0\n",
       "692    191.3\n",
       "707     93.0\n",
       "708    122.0\n",
       "709    114.0\n",
       "752    135.0\n",
       "757    105.6\n",
       "758    116.4\n",
       "763    115.0\n",
       "764    121.0\n",
       "765     99.0\n",
       "766    115.0\n",
       "767    121.0\n",
       "Name: price, dtype: float64"
      ]
     },
     "execution_count": 22,
     "metadata": {},
     "output_type": "execute_result"
    }
   ],
   "source": [
    "list_price = sorted(web_product_merge_2[\"price\"])\n",
    "q1, q3= np.percentile(list_price,[25,75])\n",
    "interquartile = q3 - q1\n",
    "print(\"Q1: \" + str(q1))\n",
    "print(\"Q3:\" + str(q3))\n",
    "print(\"interquartile:\" + str(interquartile))\n",
    "en_dessous = q1 -(1.5 * interquartile)\n",
    "au_dessus = q3 +(1.5 * interquartile)\n",
    "print(\"en_dessous:\" + str(en_dessous))\n",
    "print(\"au_dessus:\" + str(au_dessus))\n",
    "resultat = web_product_merge_2[(web_product_merge_2['price'] > au_dessus) | (web_product_merge_2['price'] < en_dessous)]\n",
    "\n",
    "print(\"Nombre de valeurs au dessus: \" + str(len(resultat)))\n",
    "resultat['price']"
   ]
  },
  {
   "cell_type": "code",
   "execution_count": 23,
   "id": "3c26a721",
   "metadata": {},
   "outputs": [],
   "source": [
    "in_ = web_product_merge_2[(web_product_merge_2['price'] < au_dessus) & (web_product_merge_2['price'] > en_dessous)]\n",
    "out_ = web_product_merge_2[(web_product_merge_2['price'] > au_dessus) | (web_product_merge_2['price'] < en_dessous)]"
   ]
  },
  {
   "cell_type": "code",
   "execution_count": 24,
   "id": "8a72891e",
   "metadata": {},
   "outputs": [
    {
     "data": {
      "image/png": "[encoded data removed]",
      "text/plain": [
       "<Figure size 432x288 with 1 Axes>"
      ]
     },
     "metadata": {
      "needs_background": "light"
     },
     "output_type": "display_data"
    }
   ],
   "source": [
    "plt.scatter(in_['price'].index, in_['price'].values)\n",
    "plt.scatter(out_['price'].index, out_['price'].values)\n",
    "plt.show()"
   ]
  },
  {
   "cell_type": "code",
   "execution_count": null,
   "id": "93f90577",
   "metadata": {},
   "outputs": [],
   "source": []
  }
 ],
 "metadata": {
  "kernelspec": {
   "display_name": "Python 3",
   "language": "python",
   "name": "python3"
  },
  "language_info": {
   "codemirror_mode": {
    "name": "ipython",
    "version": 3
   },
   "file_extension": ".py",
   "mimetype": "text/x-python",
   "name": "python",
   "nbconvert_exporter": "python",
   "pygments_lexer": "ipython3",
   "version": "3.8.8"
  }
 },
 "nbformat": 4,
 "nbformat_minor": 5
}
