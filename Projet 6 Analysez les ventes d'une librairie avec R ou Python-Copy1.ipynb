{
 "cells": [
  {
   "cell_type": "markdown",
   "id": "4938add1",
   "metadata": {},
   "source": [
    "Analyser les ventes d'une librairie avec R ou Python"
   ]
  },
  {
   "cell_type": "markdown",
   "id": "42200e94",
   "metadata": {},
   "source": [
    "# On importe les librairies utiles au projet\n",
    "\n",
    "import numpy as np\n",
    "import pandas as pd\n",
    "import matplotlib.pyplot as plt\n",
    "import scipy.stats as st\n",
    "import seaborn as sns"
   ]
  },
  {
   "cell_type": "markdown",
   "id": "2db4a37f",
   "metadata": {},
   "source": [
    "# On importe les fichiers CSV dans lesquels se trouvent nos bases de données\n",
    "\n",
    "products = pd.read_csv(\"C:/Livrables/DAN-P6-donnees/products.csv\")\n",
    "customers = pd.read_csv(\"C:/Livrables/DAN-P6-donnees/customers.csv\")\n",
    "transactions = pd.read_csv(\"C:/Livrables/DAN-P6-donnees/transactions.csv\")"
   ]
  },
  {
   "cell_type": "markdown",
   "id": "09d827df",
   "metadata": {},
   "source": [
    "products.head()"
   ]
  },
  {
   "cell_type": "markdown",
   "id": "1f3538a1",
   "metadata": {},
   "source": [
    "customers.head()"
   ]
  },
  {
   "cell_type": "markdown",
   "id": "2a64c37d",
   "metadata": {},
   "source": [
    "transactions.head()"
   ]
  },
  {
   "cell_type": "markdown",
   "id": "fd88b65f",
   "metadata": {},
   "source": [
    "products.info()"
   ]
  },
  {
   "cell_type": "markdown",
   "id": "419cfa3b",
   "metadata": {},
   "source": [
    "customers.info()"
   ]
  },
  {
   "cell_type": "markdown",
   "id": "d0933d96",
   "metadata": {},
   "source": [
    "transactions.info()"
   ]
  },
  {
   "cell_type": "markdown",
   "id": "659b4ef0",
   "metadata": {},
   "source": [
    "# 1. Constitution de notre de base de données complète"
   ]
  },
  {
   "cell_type": "markdown",
   "id": "3620a413",
   "metadata": {},
   "source": [
    "## 1.1 Nettoyage de données"
   ]
  },
  {
   "cell_type": "markdown",
   "id": "d4496093",
   "metadata": {},
   "source": [
    "transactions = transactions[transactions.session_id\t != \"s_0\"]"
   ]
  },
  {
   "cell_type": "markdown",
   "id": "eccdd56d",
   "metadata": {},
   "source": [
    "transactions.info()"
   ]
  },
  {
   "cell_type": "markdown",
   "id": "740d027d",
   "metadata": {},
   "source": [
    "## 1.2 Merging\n"
   ]
  },
  {
   "cell_type": "markdown",
   "id": "3f8da22c",
   "metadata": {},
   "source": [
    "# Je modifie mon merge et le met en \"right join\" afin de ne pas exclure des valeurs manquantes. \n",
    "global_ = pd.merge(products, transactions, how=\"right\", on=\"id_prod\")"
   ]
  },
  {
   "cell_type": "markdown",
   "id": "c324c37c",
   "metadata": {},
   "source": [
    "global_.info()"
   ]
  },
  {
   "cell_type": "markdown",
   "id": "44ad58cc",
   "metadata": {},
   "source": [
    "#Je sauvegarde les données dont le prix et la catégorie manquent dans une variable.\n",
    "transactions_null = global_[global_[\"price\"].isnull()]"
   ]
  },
  {
   "cell_type": "markdown",
   "id": "5b762f61",
   "metadata": {},
   "source": [
    "global_final = pd.merge(global_, customers, on=\"client_id\")"
   ]
  },
  {
   "cell_type": "markdown",
   "id": "8eecca32",
   "metadata": {},
   "source": [
    "## 1.3 Nettoyage des données après merge "
   ]
  },
  {
   "cell_type": "markdown",
   "id": "92faf4f0",
   "metadata": {},
   "source": [
    "global_final['date'] = pd.to_datetime(global_final['date'])"
   ]
  },
  {
   "cell_type": "markdown",
   "id": "fb0d2515",
   "metadata": {},
   "source": [
    "global_final[global_final['date'].dt.month != 10] "
   ]
  },
  {
   "cell_type": "markdown",
   "id": "31a9eb73",
   "metadata": {},
   "source": [
    "global_final.info()"
   ]
  },
  {
   "cell_type": "markdown",
   "id": "857a17c6",
   "metadata": {},
   "source": [
    "global_final.set_index('date', inplace=True)\n",
    "global_final.info()"
   ]
  },
  {
   "cell_type": "markdown",
   "id": "5d2f7ee2",
   "metadata": {},
   "source": [
    "global_final = global_final.drop(global_final.index[global_final.index.year.isin([2021])] & global_final.index[global_final.index.month.isin([10])])"
   ]
  },
  {
   "cell_type": "markdown",
   "id": "5249ff48",
   "metadata": {},
   "source": [
    "global_final = global_final.reset_index()"
   ]
  },
  {
   "cell_type": "markdown",
   "id": "9a1b8757",
   "metadata": {},
   "source": [
    "# 2. Extraction de données et visualisation graphique"
   ]
  },
  {
   "cell_type": "markdown",
   "id": "b2ba28b7",
   "metadata": {},
   "source": [
    "## 2.1 Courbe de l'évolution du chiffre d'affaire"
   ]
  },
  {
   "cell_type": "markdown",
   "id": "f62e88ec",
   "metadata": {},
   "source": [
    "chiffre_daffaire = global_final.groupby([pd.Grouper(key ='date', freq='W')]).price.sum()"
   ]
  },
  {
   "cell_type": "markdown",
   "id": "5ef5fd4b",
   "metadata": {},
   "source": [
    "chiffre_daffaire"
   ]
  },
  {
   "cell_type": "markdown",
   "id": "85661457",
   "metadata": {},
   "source": [
    "MA = chiffre_daffaire.rolling(window=4, min_periods=1).mean()"
   ]
  },
  {
   "cell_type": "markdown",
   "id": "51ad4d21",
   "metadata": {},
   "source": [
    "MA.plot()"
   ]
  },
  {
   "cell_type": "markdown",
   "id": "11eb133a",
   "metadata": {
    "scrolled": true
   },
   "source": [
    "plt.figure(figsize=(12,8))\n",
    "chiffre_daffaire.plot(label='CA')\n",
    "MA.plot(label='MA')\n",
    "plt.title(\"Chiffre d'affaire et MA9\")\n",
    "plt.ylabel('CA')\n",
    "plt.legend()\n",
    "plt.grid(True)\n",
    "plt.show()"
   ]
  },
  {
   "cell_type": "markdown",
   "id": "7155dca1",
   "metadata": {},
   "source": [
    "## 2.2 Statistiques sur le chiffre d'affaire "
   ]
  },
  {
   "cell_type": "markdown",
   "id": "d59216c4",
   "metadata": {},
   "source": [
    "#### 2.2.1 Chiffre d'affaire au total"
   ]
  },
  {
   "cell_type": "markdown",
   "id": "71d38894",
   "metadata": {},
   "source": [
    "CA_total = global_final[\"price\"].sum()"
   ]
  },
  {
   "cell_type": "markdown",
   "id": "27039de4",
   "metadata": {},
   "source": [
    "CA_total"
   ]
  },
  {
   "cell_type": "markdown",
   "id": "d123adcf",
   "metadata": {},
   "source": [
    "# Je note que des outliers doivent être supprimés.\n",
    "\n",
    "rank_client = global_final.groupby(\"client_id\").price.sum().reset_index()"
   ]
  },
  {
   "cell_type": "markdown",
   "id": "d0d35bf3",
   "metadata": {},
   "source": [
    "rank_client_sorted = rank_client.sort_values(by=\"price\",ascending=False).head(10)"
   ]
  },
  {
   "cell_type": "markdown",
   "id": "d867860d",
   "metadata": {},
   "source": [
    "sns.set_theme(style=\"whitegrid\")\n",
    "\n",
    "\n",
    "f, ax = plt.subplots(figsize=(10, 10))\n",
    "\n",
    "\n",
    "sns.set_color_codes(\"pastel\")\n",
    "sns.barplot(x=\"client_id\", y=\"price\", data=rank_client_sorted,\n",
    "            label=\"Total\", color=\"b\")\n",
    "\n",
    "\n",
    "ax.legend(ncol=2, loc=\"lower right\", frameon=True)\n",
    "ax.set(xlim=(0, 10), ylabel=\"CA\",\n",
    "       xlabel=\"ID du client\")\n",
    "sns.despine(left=True, bottom=True)"
   ]
  },
  {
   "cell_type": "markdown",
   "id": "c49f7fae",
   "metadata": {},
   "source": [
    "# J'exclue les données des clients-outliers après mon CA global et avant mes opérations sur les données. \n",
    "\n",
    "global_final = global_final[global_final['client_id'] != \"c_1609\"] \n",
    "global_final = global_final[global_final['client_id'] != \"c_4958\"]\n",
    "global_final = global_final[global_final['client_id'] != \"c_6714\"]\n",
    "global_final = global_final[global_final['client_id'] != \"c_3454\"]"
   ]
  },
  {
   "cell_type": "markdown",
   "id": "726f4cba",
   "metadata": {},
   "source": [
    "#Je vérifie que mes données ont bien été supprimées.\n",
    "\n",
    "global_final.info()"
   ]
  },
  {
   "cell_type": "markdown",
   "id": "938bfe11",
   "metadata": {},
   "source": [
    "#### 2.2.2 Répartition du chiffre d'affaire selon prix"
   ]
  },
  {
   "cell_type": "markdown",
   "id": "cac7d2c6",
   "metadata": {},
   "source": [
    "CA_10 = global_final[global_final[\"price\"] <10]"
   ]
  },
  {
   "cell_type": "markdown",
   "id": "8e58eaa4",
   "metadata": {},
   "source": [
    "print(\"Le chiffre d'affaire des livres de moins de 10€ est de:\",round(CA_10.price.sum()/CA_total*100,2), \"%\")"
   ]
  },
  {
   "cell_type": "markdown",
   "id": "5147010d",
   "metadata": {},
   "source": [
    "CA_10_25 = global_final[global_final[\"price\"].between(10, 25)]"
   ]
  },
  {
   "cell_type": "markdown",
   "id": "df0b2d04",
   "metadata": {},
   "source": [
    "print(\"Le chiffre d'affaire des livres entre 10€ et 25€ est de:\",round(CA_10_25.price.sum()/CA_total*100,2), \"%\")"
   ]
  },
  {
   "cell_type": "markdown",
   "id": "086c7195",
   "metadata": {},
   "source": [
    "CA_25_100 = global_final[global_final[\"price\"].between(25, 100)]"
   ]
  },
  {
   "cell_type": "markdown",
   "id": "5d863839",
   "metadata": {},
   "source": [
    "print(\"Le chiffre d'affaire des livres entre 25€ et 100€ est de:\",round(CA_25_100.price.sum()/CA_total*100,2), \"%\")"
   ]
  },
  {
   "cell_type": "markdown",
   "id": "428b251f",
   "metadata": {},
   "source": [
    "CA_100 = global_final[global_final[\"price\"] >100]"
   ]
  },
  {
   "cell_type": "markdown",
   "id": "bc256c49",
   "metadata": {},
   "source": [
    "print(\"Le chiffre d'affaire des livres de plus de 100€ est de:\",round(CA_100.price.sum()/CA_total*100,2), \"%\")"
   ]
  },
  {
   "cell_type": "markdown",
   "id": "ab52db8f",
   "metadata": {},
   "source": [
    "global_final.groupby(\"id_prod\")"
   ]
  },
  {
   "cell_type": "markdown",
   "id": "dd503328",
   "metadata": {},
   "source": [
    "bins = [-1, 10, 25, 100, np.inf]\n",
    "labels=['0-10', '10-25', '25-100', 'more than 100']\n",
    "df=global_final.groupby(pd.cut(global_final['price'], bins=bins, labels=labels)).size().reset_index(name=\"ventes\")\n",
    "print (df)"
   ]
  },
  {
   "cell_type": "markdown",
   "id": "7f9475e9",
   "metadata": {},
   "source": [
    "bins = [-1, 10, 25, 100, np.inf]\n",
    "labels=['0-10', '10-25', '25-100', 'more than 100']\n",
    "df=global_final.groupby(pd.cut(global_final['price'], bins=bins, labels=labels)).sum()/CA_total*100\n",
    "print (df)"
   ]
  },
  {
   "cell_type": "markdown",
   "id": "95509556",
   "metadata": {},
   "source": [
    "bins = [-1, 10, 25, 100, np.inf]\n",
    "labels=['0-10', '10-25', '25-100', 'more than 100']\n",
    "df=global_final.groupby(pd.cut(global_final['price'], bins=bins, labels=labels)).size().reset_index(name=\"ventes\")\n",
    "print (df)"
   ]
  },
  {
   "cell_type": "markdown",
   "id": "84651914",
   "metadata": {},
   "source": [
    "plt.pie(df[\"ventes\"], labels=df.ventes, radius=2, center=(4, 4))"
   ]
  },
  {
   "cell_type": "markdown",
   "id": "cdaeda94",
   "metadata": {},
   "source": [
    "bins = [-1, 10, 25, 100, np.inf]\n",
    "labels=['0-10', '10-25', '25-100', 'more than 100']\n",
    "dfg=round(global_final.groupby(pd.cut(global_final['price'], bins=bins, labels=labels)).sum()/CA_total*100,2)\n",
    "print (dfg)"
   ]
  },
  {
   "cell_type": "markdown",
   "id": "3c77cbf8",
   "metadata": {},
   "source": [
    "plt.pie(dfg.price, labels=dfg.price, radius=2, center=(4, 4))"
   ]
  },
  {
   "cell_type": "markdown",
   "id": "3e698030",
   "metadata": {},
   "source": [
    "#### 2.2.3 Visualisation du chiffre d'affaire par produit "
   ]
  },
  {
   "cell_type": "markdown",
   "id": "4d2baef1",
   "metadata": {},
   "source": [
    "ca_par_produit = global_final.groupby(\"id_prod\").price.sum().reset_index()"
   ]
  },
  {
   "cell_type": "code",
   "execution_count": 49,
   "id": "52a75de1",
   "metadata": {},
   "outputs": [
    {
     "data": {
      "text/html": [
       "<div>\n",
       "<style scoped>\n",
       "    .dataframe tbody tr th:only-of-type {\n",
       "        vertical-align: middle;\n",
       "    }\n",
       "\n",
       "    .dataframe tbody tr th {\n",
       "        vertical-align: top;\n",
       "    }\n",
       "\n",
       "    .dataframe thead th {\n",
       "        text-align: right;\n",
       "    }\n",
       "</style>\n",
       "<table border=\"1\" class=\"dataframe\">\n",
       "  <thead>\n",
       "    <tr style=\"text-align: right;\">\n",
       "      <th></th>\n",
       "      <th>id_prod</th>\n",
       "      <th>price</th>\n",
       "    </tr>\n",
       "  </thead>\n",
       "  <tbody>\n",
       "    <tr>\n",
       "      <th>0</th>\n",
       "      <td>0_0</td>\n",
       "      <td>4128.75</td>\n",
       "    </tr>\n",
       "    <tr>\n",
       "      <th>1</th>\n",
       "      <td>0_1</td>\n",
       "      <td>4934.51</td>\n",
       "    </tr>\n",
       "    <tr>\n",
       "      <th>2</th>\n",
       "      <td>0_10</td>\n",
       "      <td>287.20</td>\n",
       "    </tr>\n",
       "    <tr>\n",
       "      <th>3</th>\n",
       "      <td>0_100</td>\n",
       "      <td>61.80</td>\n",
       "    </tr>\n",
       "    <tr>\n",
       "      <th>4</th>\n",
       "      <td>0_1000</td>\n",
       "      <td>2558.16</td>\n",
       "    </tr>\n",
       "    <tr>\n",
       "      <th>...</th>\n",
       "      <td>...</td>\n",
       "      <td>...</td>\n",
       "    </tr>\n",
       "    <tr>\n",
       "      <th>3253</th>\n",
       "      <td>2_95</td>\n",
       "      <td>395.96</td>\n",
       "    </tr>\n",
       "    <tr>\n",
       "      <th>3254</th>\n",
       "      <td>2_96</td>\n",
       "      <td>25679.76</td>\n",
       "    </tr>\n",
       "    <tr>\n",
       "      <th>3255</th>\n",
       "      <td>2_97</td>\n",
       "      <td>1770.89</td>\n",
       "    </tr>\n",
       "    <tr>\n",
       "      <th>3256</th>\n",
       "      <td>2_98</td>\n",
       "      <td>149.74</td>\n",
       "    </tr>\n",
       "    <tr>\n",
       "      <th>3257</th>\n",
       "      <td>2_99</td>\n",
       "      <td>594.93</td>\n",
       "    </tr>\n",
       "  </tbody>\n",
       "</table>\n",
       "<p>3258 rows × 2 columns</p>\n",
       "</div>"
      ],
      "text/plain": [
       "     id_prod     price\n",
       "0        0_0   4128.75\n",
       "1        0_1   4934.51\n",
       "2       0_10    287.20\n",
       "3      0_100     61.80\n",
       "4     0_1000   2558.16\n",
       "...      ...       ...\n",
       "3253    2_95    395.96\n",
       "3254    2_96  25679.76\n",
       "3255    2_97   1770.89\n",
       "3256    2_98    149.74\n",
       "3257    2_99    594.93\n",
       "\n",
       "[3258 rows x 2 columns]"
      ]
     },
     "execution_count": 49,
     "metadata": {},
     "output_type": "execute_result"
    }
   ],
   "source": [
    "ca_par_produit"
   ]
  },
  {
   "cell_type": "markdown",
   "id": "aba1e8f8",
   "metadata": {},
   "source": [
    "plt.figure()\n",
    "\n",
    "df = pd.DataFrame(ca_par_produit,columns=['id_prod','price'])\n",
    "df.plot(x ='id_prod', y='price', label='CA', c=\"green\")\n",
    "plt.title(\"Vue d'ensemble du CA par produit\")\n",
    "plt.ylabel('CA')\n",
    "plt.legend()\n",
    "plt.grid(True)\n",
    "plt.show()"
   ]
  },
  {
   "cell_type": "code",
   "execution_count": 51,
   "id": "8b01240e",
   "metadata": {},
   "outputs": [],
   "source": [
    "ca_par_produit_sorted = ca_par_produit.sort_values(by=\"price\", ascending=False).head(10)"
   ]
  },
  {
   "cell_type": "markdown",
   "id": "7ddaeda7",
   "metadata": {},
   "source": [
    "ca_par_produit_sorted_2 = ca_par_produit.sort_values(by=\"price\").head(10)"
   ]
  },
  {
   "cell_type": "markdown",
   "id": "bf164190",
   "metadata": {},
   "source": [
    "ca_par_produit_sorted_2"
   ]
  },
  {
   "cell_type": "markdown",
   "id": "42531e66",
   "metadata": {},
   "source": [
    "## 2.3 Courbe de Lorenz du chiffre d'affaire par produit"
   ]
  },
  {
   "cell_type": "markdown",
   "id": "da5b466e",
   "metadata": {},
   "source": [
    "plt.figure()\n",
    "\n",
    "df = pd.DataFrame(ca_par_produit_sorted,columns=['id_prod','price'])\n",
    "df.plot(x ='id_prod', y='price', label='CA', c=\"green\")\n",
    "plt.title(\"Vue d'ensemble du CA par produit\")\n",
    "plt.ylabel('CA')\n",
    "plt.legend()\n",
    "plt.grid(True)\n",
    "plt.show()"
   ]
  },
  {
   "cell_type": "markdown",
   "id": "30788848",
   "metadata": {},
   "source": [
    "## 2.4 Produits les mieux vendus"
   ]
  },
  {
   "cell_type": "markdown",
   "id": "47ee5041",
   "metadata": {},
   "source": [
    "Classification des produits qui se vendent le mieux et le moins bien"
   ]
  },
  {
   "cell_type": "markdown",
   "id": "7bf68500",
   "metadata": {},
   "source": [
    "import seaborn as sns\n",
    "import matplotlib.pyplot as plt\n",
    "sns.set_theme(style=\"whitegrid\")\n",
    "\n",
    "\n",
    "f, ax = plt.subplots(figsize=(10,10))\n",
    "\n",
    "\n",
    "sns.set_color_codes(\"pastel\")\n",
    "sns.barplot(x=\"id_prod\", y=\"price\", data=ca_par_produit_sorted,\n",
    "            label=\"Total\", color=\"b\")\n",
    "\n",
    "\n",
    "ax.legend(ncol=2, loc=\"lower right\", frameon=True)\n",
    "ax.set(xlim=(0, 10), ylabel=\"CA\",\n",
    "       xlabel=\"ID du produit\")\n",
    "sns.despine(left=True, bottom=True)"
   ]
  },
  {
   "cell_type": "markdown",
   "id": "68971880",
   "metadata": {},
   "source": [
    "## 2.5 Produits les moins vendus"
   ]
  },
  {
   "cell_type": "markdown",
   "id": "710f02b6",
   "metadata": {},
   "source": [
    "sns.set_theme(style=\"whitegrid\")\n",
    "\n",
    "\n",
    "f, ax = plt.subplots(figsize=(10, 10))\n",
    "\n",
    "\n",
    "sns.set_color_codes(\"pastel\")\n",
    "sns.barplot(x=\"id_prod\", y=\"price\", data=ca_par_produit_sorted_2,\n",
    "            label=\"Total\", color=\"b\")\n",
    "\n",
    "\n",
    "ax.legend(ncol=2, loc=\"lower right\", frameon=True)\n",
    "ax.set(xlim=(0, 10), ylabel=\"CA\",\n",
    "       xlabel=\"ID du produit\")\n",
    "sns.despine(left=True, bottom=True)"
   ]
  },
  {
   "cell_type": "markdown",
   "id": "4701d8c1",
   "metadata": {},
   "source": [
    "# 3. Liens entre différentes variables (graphiques)"
   ]
  },
  {
   "cell_type": "markdown",
   "id": "8483e7e2",
   "metadata": {},
   "source": [
    "## 3.1 Lien entre genre et catégorie de livre achetée"
   ]
  },
  {
   "cell_type": "markdown",
   "id": "7ae1f8fc",
   "metadata": {},
   "source": [
    "genre = global_final.groupby([\"sex\"]).count()"
   ]
  },
  {
   "cell_type": "markdown",
   "id": "ff8887f1",
   "metadata": {},
   "source": [
    "plt.pie(genre.id_prod,radius=1, center=(4, 4),labels = [\"F\", \"M\"], colors = ['pink', \"yellow\"], autopct = lambda genre: str(round(genre, 1)) + '%')\n",
    "plt.title(\"Répartition des ventes par sexe\")"
   ]
  },
  {
   "cell_type": "markdown",
   "id": "c3fce264",
   "metadata": {},
   "source": [
    "ages = global_final[\"birth\"].sort_values(ascending = True)"
   ]
  },
  {
   "cell_type": "markdown",
   "id": "1af7070c",
   "metadata": {},
   "source": [
    "ca_clients = global_final.groupby(\"client_id\").price.sum()"
   ]
  },
  {
   "cell_type": "markdown",
   "id": "835026f8",
   "metadata": {},
   "source": [
    "categ_femme = global_final.loc[global_final['sex'] == \"f\",:].groupby(\"categ\").size()"
   ]
  },
  {
   "cell_type": "markdown",
   "id": "1de9f52f",
   "metadata": {},
   "source": [
    "categ_homme = global_final.loc[global_final['sex'] == \"m\",:].groupby(\"categ\").size()"
   ]
  },
  {
   "cell_type": "markdown",
   "id": "87053d59",
   "metadata": {},
   "source": [
    "categ_femme.reset_index()"
   ]
  },
  {
   "cell_type": "markdown",
   "id": "950900ac",
   "metadata": {},
   "source": [
    "categ_homme.reset_index()"
   ]
  },
  {
   "cell_type": "markdown",
   "id": "fb99ca64",
   "metadata": {},
   "source": [
    "plt.pie(categ_homme,radius=1, center=(4, 4), labels = [\"1\", \"2\", \"3\"], colors = ['orange', \"yellow\", \"white\"], autopct = lambda categ_homme: str(round(categ_homme, 1)) + '%')\n",
    "plt.title(\"Répartition des ventes par catégorie pour les hommes\")"
   ]
  },
  {
   "cell_type": "markdown",
   "id": "96df861c",
   "metadata": {},
   "source": [
    "plt.pie(categ_femme, radius=1, center=(4, 4), labels = [\"1\", \"2\", \"3\"], colors = ['pink', \"yellow\", \"white\"], autopct = lambda categ_femme: str(round(categ_femme, 1)) + '%')\n",
    "plt.title(\"Répartition des ventes par catégorie pour les femmes\")"
   ]
  },
  {
   "cell_type": "markdown",
   "id": "e43614c7",
   "metadata": {},
   "source": [
    "## 3.2 Lien entre âge et chiffre d'affaire"
   ]
  },
  {
   "cell_type": "markdown",
   "id": "234cd2fb",
   "metadata": {},
   "source": [
    "age_total = global_final.groupby([\"birth\"]).sum()"
   ]
  },
  {
   "cell_type": "markdown",
   "id": "441171f8",
   "metadata": {},
   "source": [
    "plt.figure(figsize=(12,8))\n",
    "age_total[\"price\"].plot()\n",
    "plt.xlabel('Year of birth')\n",
    "plt.ylabel('CA')\n",
    "plt.title(\"Chiffre d'affaire selon l'année de naissance du client\")\n",
    "plt.grid(True)"
   ]
  },
  {
   "cell_type": "markdown",
   "id": "94cdb3a1",
   "metadata": {},
   "source": [
    "## 3.2 Lien entre âge et fréquence d'achat"
   ]
  },
  {
   "cell_type": "markdown",
   "id": "a9ecee84",
   "metadata": {},
   "source": [
    "age_frequence = global_final.groupby([\"birth\"]).size()"
   ]
  },
  {
   "cell_type": "markdown",
   "id": "20670901",
   "metadata": {},
   "source": [
    "plt.figure(figsize=(12,8))\n",
    "age_frequence.plot()\n",
    "plt.xlabel('Year of birth')\n",
    "plt.ylabel('CA')\n",
    "plt.title(\"Fréquence d'achat selon l'année de naissance du client\")\n",
    "plt.grid(True)"
   ]
  },
  {
   "cell_type": "markdown",
   "id": "3b309e83",
   "metadata": {},
   "source": [
    "## 3.3 Lien entre âge et panier moyen"
   ]
  },
  {
   "cell_type": "markdown",
   "id": "b99ca536",
   "metadata": {},
   "source": [
    "age_mean = global_final.groupby([\"birth\"]).mean()"
   ]
  },
  {
   "cell_type": "markdown",
   "id": "f3a53844",
   "metadata": {},
   "source": [
    "plt.figure(figsize=(12,8))\n",
    "age_mean[\"price\"].plot()\n",
    "plt.xlabel('Year of birth')\n",
    "plt.ylabel('Prix')\n",
    "plt.title(\"Panier moyen selon l'âge moyen du client\")\n",
    "plt.grid(True)\n"
   ]
  },
  {
   "cell_type": "markdown",
   "id": "4bf11613",
   "metadata": {},
   "source": [
    "## 3.4 Lien entre âge et catégorie de livre acheté"
   ]
  },
  {
   "cell_type": "markdown",
   "id": "79c018ad",
   "metadata": {
    "scrolled": true
   },
   "source": [
    "plt.figure(figsize=(12,8))\n",
    "\n",
    "age_mean[\"categ\"].plot()\n",
    "plt.xlabel('Year of birth')\n",
    "plt.ylabel('Catégorie')\n",
    "\n",
    "plt.title(\"Catégorie préférée selon l'année de naissance du client\")\n",
    "plt.grid(True)\n"
   ]
  },
  {
   "cell_type": "code",
   "execution_count": null,
   "id": "6a954aa5",
   "metadata": {},
   "outputs": [],
   "source": []
  },
  {
   "cell_type": "markdown",
   "id": "2e20ddf5",
   "metadata": {},
   "source": [
    "categ_plot = global_final.groupby(\"client_id\").sum()"
   ]
  },
  {
   "cell_type": "markdown",
   "id": "7c33eba8",
   "metadata": {},
   "source": [
    "categ_plot.head()"
   ]
  },
  {
   "cell_type": "markdown",
   "id": "8901802b",
   "metadata": {},
   "source": [
    "categ_0 = global_final.loc[global_final[\"categ\"]==0]"
   ]
  },
  {
   "cell_type": "markdown",
   "id": "eb91d623",
   "metadata": {},
   "source": [
    "categ_1 = global_final.loc[global_final[\"categ\"]==1]"
   ]
  },
  {
   "cell_type": "markdown",
   "id": "81f2c84d",
   "metadata": {},
   "source": [
    "categ_2 = global_final.loc[global_final[\"categ\"]==2]"
   ]
  },
  {
   "cell_type": "markdown",
   "id": "d639d80b",
   "metadata": {},
   "source": [
    "categ_0_stacked = categ_0.groupby([pd.Grouper(key ='date', freq='M')]).price.sum()"
   ]
  },
  {
   "cell_type": "markdown",
   "id": "d00d8014",
   "metadata": {},
   "source": [
    "categ_0_stacked.plot()"
   ]
  },
  {
   "cell_type": "markdown",
   "id": "6fc4d9db",
   "metadata": {},
   "source": [
    "categ_1_stacked = categ_1.groupby([pd.Grouper(key ='date', freq='M')]).price.sum()"
   ]
  },
  {
   "cell_type": "markdown",
   "id": "fee3fba4",
   "metadata": {},
   "source": [
    "categ_2_stacked = categ_2.groupby([pd.Grouper(key ='date', freq='M')]).price.sum()"
   ]
  },
  {
   "cell_type": "markdown",
   "id": "f6dc4ca2",
   "metadata": {},
   "source": [
    "categ_2_stacked.plot()"
   ]
  },
  {
   "cell_type": "markdown",
   "id": "1091a22c",
   "metadata": {},
   "source": [
    "plt.figure(figsize=(12,8))\n",
    "plt.plot(categ_0_stacked)\n",
    "plt.plot(categ_1_stacked)\n",
    "plt.plot(categ_2_stacked)\n",
    "\n",
    "plt.xlabel('Date')\n",
    "plt.ylabel(\"Chiffre d'affaire\")\n",
    "\n",
    "plt.title(\"Evolution du chiffre d'affaire par catégorie\")\n",
    "plt.grid(True)\n"
   ]
  },
  {
   "cell_type": "markdown",
   "id": "e8f9f290",
   "metadata": {},
   "source": [
    "categ_stacked = global_final.groupby([pd.Grouper(key ='date', freq='M')]).price.sum()"
   ]
  },
  {
   "cell_type": "markdown",
   "id": "bf210450",
   "metadata": {},
   "source": [
    "categ_stacked.plot()"
   ]
  },
  {
   "cell_type": "markdown",
   "id": "7870e46b",
   "metadata": {},
   "source": [
    "age_1 = global_final[global_final[\"birth\"] <1970]"
   ]
  },
  {
   "cell_type": "markdown",
   "id": "4b9e9d6e",
   "metadata": {},
   "source": [
    "age_1 = age_1.groupby('categ').size()"
   ]
  },
  {
   "cell_type": "markdown",
   "id": "e6b4eee3",
   "metadata": {},
   "source": [
    "age_1.plot(kind='bar')"
   ]
  },
  {
   "cell_type": "markdown",
   "id": "c609e6dc",
   "metadata": {},
   "source": [
    "age_2 = global_final[global_final[\"birth\"].between(1970, 1990)]"
   ]
  },
  {
   "cell_type": "markdown",
   "id": "8b55d07f",
   "metadata": {},
   "source": [
    "age_2 = age_2.groupby('categ').size()"
   ]
  },
  {
   "cell_type": "markdown",
   "id": "fc50d638",
   "metadata": {},
   "source": [
    "age_2.plot(kind='bar')"
   ]
  },
  {
   "cell_type": "markdown",
   "id": "05aebf3d",
   "metadata": {},
   "source": [
    "age_3 = global_final[global_final[\"birth\"] >1990]"
   ]
  },
  {
   "cell_type": "markdown",
   "id": "0869435e",
   "metadata": {},
   "source": [
    "age_3 = age_3.groupby('categ').size()"
   ]
  },
  {
   "cell_type": "markdown",
   "id": "85461dd5",
   "metadata": {},
   "source": [
    "age_3.plot(kind='bar')"
   ]
  },
  {
   "cell_type": "markdown",
   "id": "ea16a2be",
   "metadata": {},
   "source": [
    "# 4. Liens entre différentes variables (stats)"
   ]
  },
  {
   "cell_type": "markdown",
   "id": "d146a06f",
   "metadata": {},
   "source": [
    "## 4.1 Corrélation entre âge et genre "
   ]
  },
  {
   "cell_type": "markdown",
   "id": "56faf98f",
   "metadata": {},
   "source": [
    "client1 = global_final.groupby(\"client_id\").head(10)"
   ]
  },
  {
   "cell_type": "markdown",
   "id": "4b6bdb6f",
   "metadata": {},
   "source": [
    "client1"
   ]
  },
  {
   "cell_type": "markdown",
   "id": "b2e575f5",
   "metadata": {},
   "source": [
    "X = global_final[\"sex\"]\n",
    "Y = global_final[\"categ\"]\n",
    "data = {\n",
    "    'sex':X,\n",
    "    'categ':Y\n",
    "}\n",
    "df = pd.DataFrame(data)"
   ]
  },
  {
   "cell_type": "markdown",
   "id": "f6d463ea",
   "metadata": {},
   "source": [
    "df"
   ]
  },
  {
   "cell_type": "markdown",
   "id": "3feaf748",
   "metadata": {},
   "source": [
    "X = \"sex\"\n",
    "Y = \"categ\"\n",
    "\n",
    "cont = df[[X, Y]].pivot_table(index=X, columns=Y, aggfunc=len).fillna(0).copy()\n",
    "\n",
    "tx = df[X].value_counts()\n",
    "ty = df[Y].value_counts()\n",
    "\n",
    "cont = cont.astype(int)"
   ]
  },
  {
   "cell_type": "markdown",
   "id": "f337562f",
   "metadata": {},
   "source": [
    "cont"
   ]
  },
  {
   "cell_type": "markdown",
   "id": "b8664858",
   "metadata": {},
   "source": [
    "st_chi2, st_p, st_dof, st_exp = st.chi2_contingency(cont)"
   ]
  },
  {
   "cell_type": "markdown",
   "id": "ee778769",
   "metadata": {},
   "source": [
    "st_p"
   ]
  },
  {
   "cell_type": "markdown",
   "id": "15d03efc",
   "metadata": {},
   "source": [
    "## 4.2 Corrélation entre âge et prix "
   ]
  },
  {
   "cell_type": "markdown",
   "id": "5b93fd21",
   "metadata": {},
   "source": [
    "test_kama_mean = global_final.groupby(['birth']).price.mean().reset_index()"
   ]
  },
  {
   "cell_type": "markdown",
   "id": "6dc6e035",
   "metadata": {},
   "source": [
    "from scipy.stats import pearsonr\n",
    "\n",
    "pearson, _ = pearsonr(test_kama_mean.birth, test_kama_mean.price)"
   ]
  },
  {
   "cell_type": "markdown",
   "id": "cf28d82f",
   "metadata": {},
   "source": [
    "pearson"
   ]
  },
  {
   "cell_type": "markdown",
   "id": "531cea26",
   "metadata": {},
   "source": [
    "# Il y a une corrélation positive entre les deux variables, mais elle n'est pas totale"
   ]
  },
  {
   "cell_type": "markdown",
   "id": "29e305ed",
   "metadata": {},
   "source": []
  }
 ],
 "metadata": {
  "kernelspec": {
   "display_name": "Python 3",
   "language": "python",
   "name": "python3"
  },
  "language_info": {
   "codemirror_mode": {
    "name": "ipython",
    "version": 3
   },
   "file_extension": ".py",
   "mimetype": "text/x-python",
   "name": "python",
   "nbconvert_exporter": "python",
   "pygments_lexer": "ipython3",
   "version": "3.8.8"
  }
 },
 "nbformat": 4,
 "nbformat_minor": 5
}
